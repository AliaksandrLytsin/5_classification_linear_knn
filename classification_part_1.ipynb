{
 "cells": [
  {
   "cell_type": "markdown",
   "metadata": {},
   "source": [
    "# Classification. Linear models and KNN"
   ]
  },
  {
   "cell_type": "code",
   "execution_count": 1,
   "metadata": {},
   "outputs": [],
   "source": [
    "import os\n",
    "import numpy as np\n",
    "import pandas as pd\n",
    "import seaborn as sns\n",
    "import matplotlib.pyplot as plt\n",
    "sns.set_theme(style=\"darkgrid\")"
   ]
  },
  {
   "cell_type": "code",
   "execution_count": 2,
   "metadata": {},
   "outputs": [],
   "source": [
    "from sklearn.pipeline import Pipeline\n",
    "from sklearn.compose import ColumnTransformer\n",
    "from sklearn.model_selection import train_test_split, cross_validate\n",
    "from sklearn.metrics import plot_confusion_matrix, accuracy_score\n",
    "from sklearn.linear_model import SGDClassifier, LogisticRegression\n",
    "from sklearn.preprocessing import StandardScaler, OneHotEncoder, MinMaxScaler, PolynomialFeatures\n",
    "from sklearn.impute import SimpleImputer\n",
    "from sklearn.neighbors import KNeighborsClassifier\n",
    "from sklearn.feature_selection import VarianceThreshold, SelectFromModel, RFECV, SequentialFeatureSelector"
   ]
  },
  {
   "cell_type": "markdown",
   "metadata": {},
   "source": [
    "## Part 1: Titanic survival prediction"
   ]
  },
  {
   "cell_type": "markdown",
   "metadata": {},
   "source": [
    "### Dataset\n",
    "\n",
    "Read the description here: https://www.kaggle.com/c/titanic/data. Download the dataset and place it in the *data/titanic/* folder in your working directory.\n",
    "You will use train.csv for model training and validation. The test set is used for model testing: once the model is trained, you can predict whether a passenger survived or not for each passenger in the test set, and submit the predictions: https://www.kaggle.com/c/titanic/overview/evaluation.  \n"
   ]
  },
  {
   "cell_type": "code",
   "execution_count": 3,
   "metadata": {},
   "outputs": [],
   "source": [
    "PATH = \"./data/\""
   ]
  },
  {
   "cell_type": "code",
   "execution_count": 4,
   "metadata": {},
   "outputs": [],
   "source": [
    "data = pd.read_csv(os.path.join(PATH, 'titanic', 'train.csv')).set_index('PassengerId')"
   ]
  },
  {
   "cell_type": "code",
   "execution_count": 5,
   "metadata": {
    "scrolled": true
   },
   "outputs": [
    {
     "data": {
      "text/html": [
       "<div>\n",
       "<style scoped>\n",
       "    .dataframe tbody tr th:only-of-type {\n",
       "        vertical-align: middle;\n",
       "    }\n",
       "\n",
       "    .dataframe tbody tr th {\n",
       "        vertical-align: top;\n",
       "    }\n",
       "\n",
       "    .dataframe thead th {\n",
       "        text-align: right;\n",
       "    }\n",
       "</style>\n",
       "<table border=\"1\" class=\"dataframe\">\n",
       "  <thead>\n",
       "    <tr style=\"text-align: right;\">\n",
       "      <th></th>\n",
       "      <th>Survived</th>\n",
       "      <th>Pclass</th>\n",
       "      <th>Name</th>\n",
       "      <th>Sex</th>\n",
       "      <th>Age</th>\n",
       "      <th>SibSp</th>\n",
       "      <th>Parch</th>\n",
       "      <th>Ticket</th>\n",
       "      <th>Fare</th>\n",
       "      <th>Cabin</th>\n",
       "      <th>Embarked</th>\n",
       "    </tr>\n",
       "    <tr>\n",
       "      <th>PassengerId</th>\n",
       "      <th></th>\n",
       "      <th></th>\n",
       "      <th></th>\n",
       "      <th></th>\n",
       "      <th></th>\n",
       "      <th></th>\n",
       "      <th></th>\n",
       "      <th></th>\n",
       "      <th></th>\n",
       "      <th></th>\n",
       "      <th></th>\n",
       "    </tr>\n",
       "  </thead>\n",
       "  <tbody>\n",
       "    <tr>\n",
       "      <th>1</th>\n",
       "      <td>0</td>\n",
       "      <td>3</td>\n",
       "      <td>Braund, Mr. Owen Harris</td>\n",
       "      <td>male</td>\n",
       "      <td>22.0</td>\n",
       "      <td>1</td>\n",
       "      <td>0</td>\n",
       "      <td>A/5 21171</td>\n",
       "      <td>7.2500</td>\n",
       "      <td>NaN</td>\n",
       "      <td>S</td>\n",
       "    </tr>\n",
       "    <tr>\n",
       "      <th>2</th>\n",
       "      <td>1</td>\n",
       "      <td>1</td>\n",
       "      <td>Cumings, Mrs. John Bradley (Florence Briggs Th...</td>\n",
       "      <td>female</td>\n",
       "      <td>38.0</td>\n",
       "      <td>1</td>\n",
       "      <td>0</td>\n",
       "      <td>PC 17599</td>\n",
       "      <td>71.2833</td>\n",
       "      <td>C85</td>\n",
       "      <td>C</td>\n",
       "    </tr>\n",
       "    <tr>\n",
       "      <th>3</th>\n",
       "      <td>1</td>\n",
       "      <td>3</td>\n",
       "      <td>Heikkinen, Miss. Laina</td>\n",
       "      <td>female</td>\n",
       "      <td>26.0</td>\n",
       "      <td>0</td>\n",
       "      <td>0</td>\n",
       "      <td>STON/O2. 3101282</td>\n",
       "      <td>7.9250</td>\n",
       "      <td>NaN</td>\n",
       "      <td>S</td>\n",
       "    </tr>\n",
       "    <tr>\n",
       "      <th>4</th>\n",
       "      <td>1</td>\n",
       "      <td>1</td>\n",
       "      <td>Futrelle, Mrs. Jacques Heath (Lily May Peel)</td>\n",
       "      <td>female</td>\n",
       "      <td>35.0</td>\n",
       "      <td>1</td>\n",
       "      <td>0</td>\n",
       "      <td>113803</td>\n",
       "      <td>53.1000</td>\n",
       "      <td>C123</td>\n",
       "      <td>S</td>\n",
       "    </tr>\n",
       "    <tr>\n",
       "      <th>5</th>\n",
       "      <td>0</td>\n",
       "      <td>3</td>\n",
       "      <td>Allen, Mr. William Henry</td>\n",
       "      <td>male</td>\n",
       "      <td>35.0</td>\n",
       "      <td>0</td>\n",
       "      <td>0</td>\n",
       "      <td>373450</td>\n",
       "      <td>8.0500</td>\n",
       "      <td>NaN</td>\n",
       "      <td>S</td>\n",
       "    </tr>\n",
       "  </tbody>\n",
       "</table>\n",
       "</div>"
      ],
      "text/plain": [
       "             Survived  Pclass  \\\n",
       "PassengerId                     \n",
       "1                   0       3   \n",
       "2                   1       1   \n",
       "3                   1       3   \n",
       "4                   1       1   \n",
       "5                   0       3   \n",
       "\n",
       "                                                          Name     Sex   Age  \\\n",
       "PassengerId                                                                    \n",
       "1                                      Braund, Mr. Owen Harris    male  22.0   \n",
       "2            Cumings, Mrs. John Bradley (Florence Briggs Th...  female  38.0   \n",
       "3                                       Heikkinen, Miss. Laina  female  26.0   \n",
       "4                 Futrelle, Mrs. Jacques Heath (Lily May Peel)  female  35.0   \n",
       "5                                     Allen, Mr. William Henry    male  35.0   \n",
       "\n",
       "             SibSp  Parch            Ticket     Fare Cabin Embarked  \n",
       "PassengerId                                                          \n",
       "1                1      0         A/5 21171   7.2500   NaN        S  \n",
       "2                1      0          PC 17599  71.2833   C85        C  \n",
       "3                0      0  STON/O2. 3101282   7.9250   NaN        S  \n",
       "4                1      0            113803  53.1000  C123        S  \n",
       "5                0      0            373450   8.0500   NaN        S  "
      ]
     },
     "execution_count": 5,
     "metadata": {},
     "output_type": "execute_result"
    }
   ],
   "source": [
    "data.head()"
   ]
  },
  {
   "cell_type": "markdown",
   "metadata": {},
   "source": [
    "### EDA"
   ]
  },
  {
   "cell_type": "markdown",
   "metadata": {},
   "source": [
    "**(0.5 points)** How many females and males are there in the dataset? What about the survived passengers? Is there any relationship between the gender and the survival?"
   ]
  },
  {
   "cell_type": "code",
   "execution_count": 6,
   "metadata": {},
   "outputs": [
    {
     "name": "stdout",
     "output_type": "stream",
     "text": [
      "All numbers: \n",
      "male      577\n",
      "female    314\n",
      "\n",
      "Survived: \n",
      "female    233\n",
      "male      109\n",
      "\n",
      "Percentage of survived among: \n",
      "female    74.20\n",
      "male      18.89\n"
     ]
    }
   ],
   "source": [
    "print(f'All numbers: \\n{data[\"Sex\"].value_counts().to_string()}\\n\\n\\\n",
    "Survived: \\n{data[data[\"Survived\"] == 1][\"Sex\"].value_counts().to_string()}\\n\\n\\\n",
    "Percentage of survived among: \\n\\\n",
    "{round((data[data[\"Survived\"] == 1][\"Sex\"].value_counts() / data[\"Sex\"].value_counts() * 100), 2).to_string()}')"
   ]
  },
  {
   "cell_type": "markdown",
   "metadata": {},
   "source": [
    "Well, the percentage of survivors among females is much higher than among males. Probably the men decided to stay on the ship, giving up their places in the lifeboats."
   ]
  },
  {
   "cell_type": "markdown",
   "metadata": {},
   "source": [
    "**(0.5 points)** Plot age distribution of the passengers. What is the average and the median age of survived and deceased passengers? Do age distributions differ for survived and deceased passengers? Why?"
   ]
  },
  {
   "cell_type": "code",
   "execution_count": 7,
   "metadata": {
    "scrolled": false
   },
   "outputs": [
    {
     "name": "stdout",
     "output_type": "stream",
     "text": [
      "Mean for survived: 28.34\n",
      "Mean for deceased: 30.63\n",
      "Median for survived: 28.00\n",
      "Median for deceased: 28.00\n"
     ]
    },
    {
     "data": {
      "image/png": "[encoded data removed]",
      "text/plain": [
       "<Figure size 720x360 with 2 Axes>"
      ]
     },
     "metadata": {},
     "output_type": "display_data"
    }
   ],
   "source": [
    "print(f'Mean for survived: {data[data[\"Survived\"] == 1][\"Age\"].mean():.2f}')\n",
    "print(f'Mean for deceased: {data[data[\"Survived\"] == 0][\"Age\"].mean():.2f}')\n",
    "print(f'Median for survived: {data[data[\"Survived\"] == 1][\"Age\"].median():.2f}')\n",
    "print(f'Median for deceased: {data[data[\"Survived\"] == 0][\"Age\"].median():.2f}')\n",
    "sns.displot(data, x='Age', col='Survived');"
   ]
  },
  {
   "cell_type": "markdown",
   "metadata": {},
   "source": [
    "Mean for survived slightly less than for deceased. Median is the same. Among the survivors we can see a large number of children under 5 years old. Perhaps because children were first loaded into lifeboats."
   ]
  },
  {
   "cell_type": "markdown",
   "metadata": {},
   "source": [
    "**(1 point)** Explore \"passenger class\" and \"embarked\" features. What class was \"the safest\"? Is there any relationship between the embarkation port and the survival? Provide the corresponding visualizations."
   ]
  },
  {
   "cell_type": "code",
   "execution_count": 8,
   "metadata": {},
   "outputs": [
    {
     "name": "stdout",
     "output_type": "stream",
     "text": [
      "Percentage of survived for each passenger class:\n",
      "1    62.96\n",
      "2    47.28\n",
      "3    24.24\n",
      "\n",
      "Percentage of survived for each embarkation port:\n",
      "S    33.70\n",
      "C    55.36\n",
      "Q    38.96\n"
     ]
    },
    {
     "data": {
      "image/png": "[encoded data removed]",
      "text/plain": [
       "<Figure size 415.55x360 with 1 Axes>"
      ]
     },
     "metadata": {},
     "output_type": "display_data"
    },
    {
     "data": {
      "image/png": "[encoded data removed]",
      "text/plain": [
       "<Figure size 415.55x360 with 1 Axes>"
      ]
     },
     "metadata": {},
     "output_type": "display_data"
    }
   ],
   "source": [
    "print(f\"Percentage of survived for each passenger class:\\n\\\n",
    "{round(data[data['Survived'] == 1]['Pclass'].value_counts() / data['Pclass'].value_counts() * 100, 2).to_string()}\\n\")\n",
    "print(f\"Percentage of survived for each embarkation port:\\n\\\n",
    "{round(data[data['Survived'] == 1]['Embarked'].value_counts() / data['Embarked'].value_counts() * 100, 2).to_string()}\")\n",
    "sns.catplot(data=data, x='Pclass', hue=\"Survived\", kind=\"count\").set_axis_labels('Passenger class')\n",
    "sns.catplot(data=data, x='Embarked', hue=\"Survived\", kind=\"count\").set_axis_labels('Embarkation port');"
   ]
  },
  {
   "cell_type": "markdown",
   "metadata": {},
   "source": [
    "We can see that \"safest class\" is first class. And many survived among those who boarded the ship in the port of Cherbourg."
   ]
  },
  {
   "cell_type": "markdown",
   "metadata": {},
   "source": [
    "### Modelling"
   ]
  },
  {
   "cell_type": "markdown",
   "metadata": {},
   "source": [
    "**(0.5 points)** Find the percentage of missing values for each feature. "
   ]
  },
  {
   "cell_type": "code",
   "execution_count": 9,
   "metadata": {},
   "outputs": [
    {
     "data": {
      "text/plain": [
       "Survived     0.00\n",
       "Pclass       0.00\n",
       "Name         0.00\n",
       "Sex          0.00\n",
       "Age         16.09\n",
       "SibSp        0.00\n",
       "Parch        0.00\n",
       "Ticket       0.00\n",
       "Fare         0.00\n",
       "Cabin       62.45\n",
       "Embarked     0.18\n",
       "dtype: float64"
      ]
     },
     "execution_count": 9,
     "metadata": {},
     "output_type": "execute_result"
    }
   ],
   "source": [
    "round(data.isna().sum() / data.shape[1], 2)"
   ]
  },
  {
   "cell_type": "markdown",
   "metadata": {},
   "source": [
    "Think about the ways to handle these missing values for modelling and write your answer below. Which methods would you suggest? What are their advantages and disadvantages?\n",
    "\n",
    "In column 'Cabin' more than 60% of data is NA. We will drop this feature from training set. In column 'Age' 16% of data NA. We will replace it with median value of column. In 'Embarked' we'll replace NA with most frequent value of column, because this is categorical feature."
   ]
  },
  {
   "cell_type": "markdown",
   "metadata": {},
   "source": [
    "**(1.5 points)** Prepare the features and train two models (KNN and Logistic Regression) to predict the survival. Compare the results. Use accuracy as a metric. Don't forget about cross-validation!"
   ]
  },
  {
   "cell_type": "code",
   "execution_count": 10,
   "metadata": {},
   "outputs": [],
   "source": [
    "y = data['Survived']\n",
    "X = data.drop(['Survived', 'Name', 'Ticket', 'Cabin'], axis=1)"
   ]
  },
  {
   "cell_type": "code",
   "execution_count": 11,
   "metadata": {},
   "outputs": [
    {
     "name": "stdout",
     "output_type": "stream",
     "text": [
      "Accuracy of logistic regression model: 0.7901324461741259\n",
      "Accuracy of KNN model: 0.8092084614901764\n"
     ]
    }
   ],
   "source": [
    "numeric_features = ['Age', 'SibSp', 'Parch', 'Fare']\n",
    "categorical_features = ['Pclass', 'Sex', 'Embarked']\n",
    "\n",
    "def preprocessor(numeric_features, categorical_features):\n",
    "    numeric_transformer = Pipeline([\n",
    "        ('imputer', SimpleImputer(strategy='median')),\n",
    "        ('scaler', StandardScaler())])\n",
    "\n",
    "    categorical_transformer = Pipeline([\n",
    "        ('imputer', SimpleImputer(strategy='most_frequent')),\n",
    "        ('encoder', OneHotEncoder(handle_unknown='ignore'))])\n",
    "\n",
    "    return ColumnTransformer(\n",
    "        transformers=[\n",
    "            ('num', numeric_transformer, numeric_features),\n",
    "            ('cat', categorical_transformer, categorical_features)])\n",
    "\n",
    "log_reg_model = Pipeline([\n",
    "    ('preprocessor', preprocessor(numeric_features, categorical_features)),\n",
    "    ('classifier', LogisticRegression(solver='liblinear', penalty='l1'))])\n",
    "\n",
    "print(f\"Accuracy of logistic regression model: \\\n",
    "{cross_validate(log_reg_model, X, y, cv=5, scoring='accuracy')['test_score'].mean()}\")\n",
    "\n",
    "knn_model = Pipeline([\n",
    "    ('preprocessor', preprocessor(numeric_features, categorical_features)),\n",
    "    ('classifier', KNeighborsClassifier(n_neighbors=12))])\n",
    "\n",
    "print(f\"Accuracy of KNN model: {cross_validate(knn_model, X, y, cv=5, scoring='accuracy')['test_score'].mean()}\")"
   ]
  },
  {
   "cell_type": "markdown",
   "metadata": {},
   "source": [
    "The accuracy of the KNN model is slightly higher than that of the logistic regression model."
   ]
  },
  {
   "cell_type": "markdown",
   "metadata": {},
   "source": [
    "**(0.5 + X points)** Try more feature engineering and hyperparameter tuning to improve the results. You may use either KNN or Logistic Regression (or both)."
   ]
  },
  {
   "cell_type": "code",
   "execution_count": 12,
   "metadata": {},
   "outputs": [
    {
     "name": "stdout",
     "output_type": "stream",
     "text": [
      "Accuracy of logistic regression with feature selection: 0.7912560416797438\n"
     ]
    }
   ],
   "source": [
    "# Add to our model feature selection\n",
    "log_reg_sel_model = Pipeline([\n",
    "    ('preprocessor', preprocessor(numeric_features, categorical_features)),\n",
    "    ('selector', SelectFromModel(LogisticRegression(solver='liblinear', penalty='l1', C=0.1))),  \n",
    "    ('classifier', LogisticRegression(solver='liblinear', penalty='l1'))])\n",
    "\n",
    "print(f\"Accuracy of logistic regression with feature selection: \\\n",
    "{cross_validate(log_reg_sel_model, X, y, cv=5, scoring='accuracy')['test_score'].mean()}\")"
   ]
  },
  {
   "cell_type": "code",
   "execution_count": 13,
   "metadata": {
    "scrolled": true
   },
   "outputs": [
    {
     "name": "stdout",
     "output_type": "stream",
     "text": [
      "Accuracy of logistic regression with polynomial feature and feature selection: 0.8114682066411399\n"
     ]
    }
   ],
   "source": [
    "# Add to our model polynomial feature\n",
    "log_reg_poly_sel_model = Pipeline([\n",
    "    ('preprocessor', preprocessor(numeric_features, categorical_features)),\n",
    "    ('polynomial', PolynomialFeatures(degree=2)),\n",
    "    ('selector', SelectFromModel(LogisticRegression(solver='liblinear', penalty='l1', C=0.1))),  \n",
    "    ('classifier', LogisticRegression(solver='liblinear', penalty='l1'))])\n",
    "\n",
    "print(f\"Accuracy of logistic regression with polynomial feature and feature selection: \\\n",
    "{cross_validate(log_reg_poly_sel_model, X, y, cv=5, scoring='accuracy')['test_score'].mean()}\")"
   ]
  },
  {
   "cell_type": "markdown",
   "metadata": {},
   "source": [
    "Let's try to save the 'Cabin' feature. We can to assume that everyone who survived was able to name their cabin number, and those who did not survive could not. Let's make 'Cabin' a categorical feature (0 if NA, 1 if it has any value)."
   ]
  },
  {
   "cell_type": "code",
   "execution_count": 14,
   "metadata": {},
   "outputs": [
    {
     "name": "stdout",
     "output_type": "stream",
     "text": [
      "Percentage of survived for 'Cabin' = 1: 66.67\n",
      "Percentage of survived for 'Cabin' = 0: 29.99\n"
     ]
    },
    {
     "data": {
      "image/png": "[encoded data removed]",
      "text/plain": [
       "<Figure size 415.55x360 with 1 Axes>"
      ]
     },
     "metadata": {},
     "output_type": "display_data"
    }
   ],
   "source": [
    "X = data.drop(['Name', 'Ticket'], axis=1)\n",
    "X['Cabin'] = X['Cabin'].fillna(0).apply(lambda x: 1 if (x != 0) else 0)\n",
    "print(f\"Percentage of survived for 'Cabin' = 1: \\\n",
    "{round(X[(X['Cabin'] == 1) & (X['Survived'] == 1)].shape[0] / X[X['Cabin'] == 1].shape[0] * 100, 2)}\")\n",
    "print(f\"Percentage of survived for 'Cabin' = 0: \\\n",
    "{round(X[(X['Cabin'] == 0) & (X['Survived'] == 1)].shape[0] / X[X['Cabin'] == 0].shape[0] * 100, 2)}\")\n",
    "sns.catplot(data=X, x='Cabin', hue=\"Survived\", kind=\"count\");\n",
    "X = X.drop(['Survived'], axis=1)"
   ]
  },
  {
   "cell_type": "markdown",
   "metadata": {},
   "source": [
    "Well, it looks like we've found a relationship between 'Cabin' and 'Survived'. And our assumption turned out to be correct. Let's train our models on updated data."
   ]
  },
  {
   "cell_type": "code",
   "execution_count": 15,
   "metadata": {
    "scrolled": true
   },
   "outputs": [
    {
     "name": "stdout",
     "output_type": "stream",
     "text": [
      "Accuracy of logistic regression with polynomial feature and feature selection: 0.8204381394764922\n"
     ]
    }
   ],
   "source": [
    "categorical_features = ['Pclass', 'Sex', 'Embarked', 'Cabin']\n",
    "\n",
    "log_reg_poly_sel_model = Pipeline([\n",
    "    ('preprocessor', preprocessor(numeric_features, categorical_features)),\n",
    "    ('polynomial', PolynomialFeatures(degree=2)),\n",
    "    ('selector', SelectFromModel(LogisticRegression(solver='liblinear', penalty='l1', C=0.1))), \n",
    "    ('classifier', LogisticRegression(solver='liblinear', penalty='l1'))])\n",
    "\n",
    "print(f\"Accuracy of logistic regression with polynomial feature and feature selection: \\\n",
    "{cross_validate(log_reg_poly_sel_model, X, y, cv=5, scoring='accuracy')['test_score'].mean()}\")"
   ]
  },
  {
   "cell_type": "code",
   "execution_count": 16,
   "metadata": {},
   "outputs": [
    {
     "name": "stdout",
     "output_type": "stream",
     "text": [
      "Accuracy of KNN model: 0.8114556525014123\n"
     ]
    }
   ],
   "source": [
    "# Do the same for KNN model\n",
    "knn_poly_sel_model = Pipeline([\n",
    "    ('preprocessor', preprocessor(numeric_features, categorical_features)),\n",
    "    ('polynomial', PolynomialFeatures(degree=2)),\n",
    "    ('selector', SelectFromModel(LogisticRegression(solver='liblinear', penalty='l1', C=0.1))),\n",
    "    ('classifier', KNeighborsClassifier(n_neighbors=12))])\n",
    "\n",
    "print(f\"Accuracy of KNN model: {cross_validate(knn_poly_sel_model, X, y, cv=5, scoring='accuracy')['test_score'].mean()}\")"
   ]
  },
  {
   "cell_type": "markdown",
   "metadata": {},
   "source": [
    "The accuracy of our models has been improved!"
   ]
  },
  {
   "cell_type": "markdown",
   "metadata": {},
   "source": [
    "Load the test set and make the predictions. Submit them to kaggle and see the results :)\n",
    "Select the best model, load the test set and make the predictions. Submit them to kaggle.\n",
    "\n",
    "**Note**. X points will depend on your kaggle leaderboard score.\n",
    "$$ f(score) = 0.5, \\ \\ 0.76 \\leq score < 0.78,$$\n",
    "$$ f(score) = 1.0, \\ \\ 0.78 \\leq score < 0.81,$$ \n",
    "$$ f(score) = 2.5, \\ \\ 0.81 \\leq score $$ \n",
    "Your code should generate the output submitted to kaggle. Fix random seeds to make the results reproducible."
   ]
  },
  {
   "cell_type": "markdown",
   "metadata": {},
   "source": [
    "Logistic regression with polynomial feature and feature selection showed the best accuracy. We select it to be sent to Kaggle."
   ]
  },
  {
   "cell_type": "code",
   "execution_count": 17,
   "metadata": {},
   "outputs": [],
   "source": [
    "test_data = pd.read_csv(os.path.join(PATH, 'titanic', 'test.csv')).set_index('PassengerId')\n",
    "X_test = test_data.drop(['Name', 'Ticket'], axis=1)\n",
    "X_test['Cabin'] = X_test['Cabin'].fillna(0).apply(lambda x: 1 if (x != 0) else 0)\n",
    "y_pred = log_reg_poly_sel_model.fit(X, y).predict(X_test)\n",
    "result = pd.DataFrame({'PassengerId': test_data.index, 'Survived': y_pred})\n",
    "result.to_csv('Alex_Lytin_submission_titanic.csv', index=False)"
   ]
  },
  {
   "cell_type": "markdown",
   "metadata": {},
   "source": [
    "The accuracy of our submission on Kaggle was 0.78468 (username: aliaksandrlytsin). Not great, not terrible..."
   ]
  }
 ],
 "metadata": {
  "kernelspec": {
   "display_name": "Python 3",
   "language": "python",
   "name": "python3"
  },
  "language_info": {
   "codemirror_mode": {
    "name": "ipython",
    "version": 3
   },
   "file_extension": ".py",
   "mimetype": "text/x-python",
   "name": "python",
   "nbconvert_exporter": "python",
   "pygments_lexer": "ipython3",
   "version": "3.8.5"
  }
 },
 "nbformat": 4,
 "nbformat_minor": 4
}
